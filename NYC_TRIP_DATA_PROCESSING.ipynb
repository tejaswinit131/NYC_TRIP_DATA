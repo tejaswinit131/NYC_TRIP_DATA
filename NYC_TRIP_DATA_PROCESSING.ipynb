{
 "cells": [
  {
   "cell_type": "code",
   "execution_count": 0,
   "metadata": {
    "application/vnd.databricks.v1+cell": {
     "cellMetadata": {},
     "inputWidgets": {},
     "nuid": "de506672-58cb-4bd2-809c-bedcac94d6ff",
     "showTitle": false,
     "title": ""
    }
   },
   "outputs": [],
   "source": [
    "import os\n",
    "import pandas as pd\n",
    "from datetime import datetime\n",
    "\n",
    "# Define local directory\n",
    "local_dir = \"/tmp/nyc_taxi_data_2019\"\n",
    "\n",
    "# Function to process data\n",
    "def process_data(file_path, pickup_col, dropoff_col, distance_col, fare_col):\n",
    "    # Read parquet file into DataFrame\n",
    "    df = pd.read_parquet(file_path)\n",
    "    \n",
    "    # Select necessary columns and drop missing values\n",
    "    df = df[[pickup_col, dropoff_col, distance_col, fare_col]].dropna()\n",
    "    \n",
    "    # Rename columns\n",
    "    df.columns = ['pickup_datetime', 'dropoff_datetime', 'trip_distance', 'fare_amount']\n",
    "    \n",
    "    # Convert datetime columns\n",
    "    df['pickup_datetime'] = pd.to_datetime(df['pickup_datetime'])\n",
    "    df['dropoff_datetime'] = pd.to_datetime(df['dropoff_datetime'])\n",
    "    \n",
    "    # Derive new columns: trip duration (minutes) and average speed (mph)\n",
    "    df['trip_duration'] = (df['dropoff_datetime'] - df['pickup_datetime']).dt.total_seconds() / 60\n",
    "    df['average_speed'] = df['trip_distance'] / (df['trip_duration'] / 60)\n",
    "    \n",
    "    # Remove invalid data\n",
    "    df = df[(df['trip_duration'] > 0) & (df['average_speed'].notnull())]\n",
    "    \n",
    "    # Aggregate data: total trips and average fare per day\n",
    "    df['pickup_date'] = df['pickup_datetime'].dt.date\n",
    "    agg_df = df.groupby('pickup_date').agg(\n",
    "        total_trips=('trip_distance', 'count'),\n",
    "        average_fare=('fare_amount', 'mean')\n",
    "    ).reset_index()\n",
    "    \n",
    "    return df, agg_df\n",
    "\n",
    "# Process each file and display results\n",
    "for month in ['01', '02', '03']:\n",
    "    for taxi_type, pickup_col, dropoff_col, distance_col, fare_col in [\n",
    "        ('yellow', 'tpep_pickup_datetime', 'tpep_dropoff_datetime', 'trip_distance', 'fare_amount'),\n",
    "        ('green', 'lpep_pickup_datetime', 'lpep_dropoff_datetime', 'trip_distance', 'fare_amount'),\n",
    "        ('fhvhv', 'pickup_datetime', 'dropoff_datetime', 'trip_miles', 'base_passenger_fare')\n",
    "    ]:\n",
    "        # Get file path\n",
    "        file_path = os.path.join(local_dir, f'{taxi_type}_tripdata_2019-{month}.parquet')\n",
    "        \n",
    "        # Process data\n",
    "        try:\n",
    "            df, agg_df = process_data(file_path, pickup_col, dropoff_col, distance_col, fare_col)\n",
    "            \n",
    "            # Show DataFrame description\n",
    "            print(f\"Description of {taxi_type} data for 2019-{month}:\")\n",
    "            print(df.describe())\n",
    "            \n",
    "            # Show aggregated results\n",
    "            print(agg_df.head())\n",
    "        except Exception as e:\n",
    "            print(f\"Error processing {file_path}: {e}\")\n",
    "\n",
    "print(\"Data processing completed.\")\n",
    "\n"
   ]
  }
 ],
 "metadata": {
  "application/vnd.databricks.v1+notebook": {
   "dashboards": [],
   "environmentMetadata": null,
   "language": "python",
   "notebookMetadata": {
    "pythonIndentUnit": 4
   },
   "notebookName": "NYC_TRIP_DATA_PROCESSING",
   "widgets": {}
  }
 },
 "nbformat": 4,
 "nbformat_minor": 0
}
