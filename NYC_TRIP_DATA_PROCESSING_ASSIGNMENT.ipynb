{
 "cells": [
  {
   "cell_type": "markdown",
   "metadata": {
    "application/vnd.databricks.v1+cell": {
     "cellMetadata": {},
     "inputWidgets": {},
     "nuid": "50da5f92-0ff9-4c68-a85d-f87913137e2f",
     "showTitle": false,
     "title": ""
    }
   },
   "source": [
    "Data Extraction\n",
    "\n",
    "Task: Automate the downloading of the dataset from the Year 2019.\n",
    "\n",
    "Write a script that downloads PARQUET files from the Year 2019.\n",
    "Ensure the script can handle network errors and retries."
   ]
  },
  {
   "cell_type": "code",
   "execution_count": 0,
   "metadata": {
    "application/vnd.databricks.v1+cell": {
     "cellMetadata": {
      "byteLimit": 2048000,
      "rowLimit": 10000
     },
     "collapsed": true,
     "inputWidgets": {},
     "nuid": "d3deed3a-84fe-4bd8-a516-64ea69677d63",
     "showTitle": false,
     "title": ""
    }
   },
   "outputs": [
    {
     "output_type": "stream",
     "name": "stdout",
     "output_type": "stream",
     "text": [
      "\u001B[43mNote: you may need to restart the kernel using %restart_python or dbutils.library.restartPython() to use updated packages.\u001B[0m\nRequirement already satisfied: tqdm in /databricks/python3/lib/python3.11/site-packages (4.65.0)\n\u001B[43mNote: you may need to restart the kernel using %restart_python or dbutils.library.restartPython() to use updated packages.\u001B[0m\n\u001B[43mNote: you may need to restart the kernel using %restart_python or dbutils.library.restartPython() to use updated packages.\u001B[0m\nRequirement already satisfied: pandas in /databricks/python3/lib/python3.11/site-packages (1.5.3)\nRequirement already satisfied: python-dateutil>=2.8.1 in /databricks/python3/lib/python3.11/site-packages (from pandas) (2.8.2)\nRequirement already satisfied: pytz>=2020.1 in /databricks/python3/lib/python3.11/site-packages (from pandas) (2022.7)\nRequirement already satisfied: numpy>=1.21.0 in /databricks/python3/lib/python3.11/site-packages (from pandas) (1.23.5)\nRequirement already satisfied: six>=1.5 in /usr/lib/python3/dist-packages (from python-dateutil>=2.8.1->pandas) (1.16.0)\n\u001B[43mNote: you may need to restart the kernel using %restart_python or dbutils.library.restartPython() to use updated packages.\u001B[0m\n\u001B[43mNote: you may need to restart the kernel using %restart_python or dbutils.library.restartPython() to use updated packages.\u001B[0m\nRequirement already satisfied: requests in /databricks/python3/lib/python3.11/site-packages (2.31.0)\nRequirement already satisfied: charset-normalizer<4,>=2 in /databricks/python3/lib/python3.11/site-packages (from requests) (2.0.4)\nRequirement already satisfied: idna<4,>=2.5 in /databricks/python3/lib/python3.11/site-packages (from requests) (3.4)\nRequirement already satisfied: urllib3<3,>=1.21.1 in /databricks/python3/lib/python3.11/site-packages (from requests) (1.26.16)\nRequirement already satisfied: certifi>=2017.4.17 in /databricks/python3/lib/python3.11/site-packages (from requests) (2023.7.22)\n\u001B[43mNote: you may need to restart the kernel using %restart_python or dbutils.library.restartPython() to use updated packages.\u001B[0m\n"
     ]
    }
   ],
   "source": [
    "%pip install tqdm\n",
    "%pip install pandas\n",
    "%pip install requests"
   ]
  },
  {
   "cell_type": "code",
   "execution_count": 0,
   "metadata": {
    "application/vnd.databricks.v1+cell": {
     "cellMetadata": {
      "byteLimit": 2048000,
      "rowLimit": 10000
     },
     "inputWidgets": {},
     "nuid": "50e9dbb5-8b53-4454-960d-34fcc4c624de",
     "showTitle": false,
     "title": ""
    }
   },
   "outputs": [
    {
     "output_type": "stream",
     "name": "stdout",
     "output_type": "stream",
     "text": [
      "Successfully downloaded /tmp/nyc_taxi_data_2019/yellow_tripdata_2019-01.parquet\nSuccessfully downloaded /tmp/nyc_taxi_data_2019/green_tripdata_2019-01.parquet\nSuccessfully downloaded /tmp/nyc_taxi_data_2019/fhv_tripdata_2019-01.parquet\nSuccessfully downloaded /tmp/nyc_taxi_data_2019/yellow_tripdata_2019-02.parquet\nSuccessfully downloaded /tmp/nyc_taxi_data_2019/green_tripdata_2019-02.parquet\nSuccessfully downloaded /tmp/nyc_taxi_data_2019/fhv_tripdata_2019-02.parquet\nSuccessfully downloaded /tmp/nyc_taxi_data_2019/fhvhv_tripdata_2019-02.parquet\nSuccessfully downloaded /tmp/nyc_taxi_data_2019/yellow_tripdata_2019-03.parquet\nSuccessfully downloaded /tmp/nyc_taxi_data_2019/green_tripdata_2019-03.parquet\nSuccessfully downloaded /tmp/nyc_taxi_data_2019/fhv_tripdata_2019-03.parquet\nSuccessfully downloaded /tmp/nyc_taxi_data_2019/fhvhv_tripdata_2019-03.parquet\nDownload completed.\nCopied /tmp/nyc_taxi_data_2019/yellow_tripdata_2019-01.parquet to /mnt/nyc_taxi_data_2019/yellow_tripdata_2019-01.parquet\nCopied /tmp/nyc_taxi_data_2019/green_tripdata_2019-01.parquet to /mnt/nyc_taxi_data_2019/green_tripdata_2019-01.parquet\nCopied /tmp/nyc_taxi_data_2019/fhv_tripdata_2019-01.parquet to /mnt/nyc_taxi_data_2019/fhv_tripdata_2019-01.parquet\nCopied /tmp/nyc_taxi_data_2019/yellow_tripdata_2019-02.parquet to /mnt/nyc_taxi_data_2019/yellow_tripdata_2019-02.parquet\nCopied /tmp/nyc_taxi_data_2019/green_tripdata_2019-02.parquet to /mnt/nyc_taxi_data_2019/green_tripdata_2019-02.parquet\nCopied /tmp/nyc_taxi_data_2019/fhv_tripdata_2019-02.parquet to /mnt/nyc_taxi_data_2019/fhv_tripdata_2019-02.parquet\nCopied /tmp/nyc_taxi_data_2019/fhvhv_tripdata_2019-02.parquet to /mnt/nyc_taxi_data_2019/fhvhv_tripdata_2019-02.parquet\nCopied /tmp/nyc_taxi_data_2019/yellow_tripdata_2019-03.parquet to /mnt/nyc_taxi_data_2019/yellow_tripdata_2019-03.parquet\nCopied /tmp/nyc_taxi_data_2019/green_tripdata_2019-03.parquet to /mnt/nyc_taxi_data_2019/green_tripdata_2019-03.parquet\nCopied /tmp/nyc_taxi_data_2019/fhv_tripdata_2019-03.parquet to /mnt/nyc_taxi_data_2019/fhv_tripdata_2019-03.parquet\nCopied /tmp/nyc_taxi_data_2019/fhvhv_tripdata_2019-03.parquet to /mnt/nyc_taxi_data_2019/fhvhv_tripdata_2019-03.parquet\nFiles copied to DBFS.\n+--------+--------------------+---------------------+---------------+-------------+----------+------------------+------------+------------+------------+-----------+-----+-------+----------+------------+---------------------+------------+--------------------+-----------+\n|VendorID|tpep_pickup_datetime|tpep_dropoff_datetime|passenger_count|trip_distance|RatecodeID|store_and_fwd_flag|PULocationID|DOLocationID|payment_type|fare_amount|extra|mta_tax|tip_amount|tolls_amount|improvement_surcharge|total_amount|congestion_surcharge|airport_fee|\n+--------+--------------------+---------------------+---------------+-------------+----------+------------------+------------+------------+------------+-----------+-----+-------+----------+------------+---------------------+------------+--------------------+-----------+\n|       1| 2019-01-01 00:46:40|  2019-01-01 00:53:20|            1.0|          1.5|       1.0|                 N|         151|         239|           1|        7.0|  0.5|    0.5|      1.65|         0.0|                  0.3|        9.95|                NULL|       NULL|\n|       1| 2019-01-01 00:59:47|  2019-01-01 01:18:59|            1.0|          2.6|       1.0|                 N|         239|         246|           1|       14.0|  0.5|    0.5|       1.0|         0.0|                  0.3|        16.3|                NULL|       NULL|\n|       2| 2018-12-21 13:48:30|  2018-12-21 13:52:40|            3.0|          0.0|       1.0|                 N|         236|         236|           1|        4.5|  0.5|    0.5|       0.0|         0.0|                  0.3|         5.8|                NULL|       NULL|\n|       2| 2018-11-28 15:52:25|  2018-11-28 15:55:45|            5.0|          0.0|       1.0|                 N|         193|         193|           2|        3.5|  0.5|    0.5|       0.0|         0.0|                  0.3|        7.55|                NULL|       NULL|\n|       2| 2018-11-28 15:56:57|  2018-11-28 15:58:33|            5.0|          0.0|       2.0|                 N|         193|         193|           2|       52.0|  0.0|    0.5|       0.0|         0.0|                  0.3|       55.55|                NULL|       NULL|\n+--------+--------------------+---------------------+---------------+-------------+----------+------------------+------------+------------+------------+-----------+-----+-------+----------+------------+---------------------+------------+--------------------+-----------+\nonly showing top 5 rows\n\n+--------+--------------------+---------------------+------------------+----------+------------+------------+---------------+-------------+-----------+-----+-------+----------+------------+---------+---------------------+------------+------------+---------+--------------------+\n|VendorID|lpep_pickup_datetime|lpep_dropoff_datetime|store_and_fwd_flag|RatecodeID|PULocationID|DOLocationID|passenger_count|trip_distance|fare_amount|extra|mta_tax|tip_amount|tolls_amount|ehail_fee|improvement_surcharge|total_amount|payment_type|trip_type|congestion_surcharge|\n+--------+--------------------+---------------------+------------------+----------+------------+------------+---------------+-------------+-----------+-----+-------+----------+------------+---------+---------------------+------------+------------+---------+--------------------+\n|       2| 2018-12-21 15:17:29|  2018-12-21 15:18:57|                 N|       1.0|         264|         264|            5.0|          0.0|        3.0|  0.5|    0.5|       0.0|         0.0|     NULL|                  0.3|         4.3|         2.0|      1.0|                NULL|\n|       2| 2019-01-01 00:10:16|  2019-01-01 00:16:32|                 N|       1.0|          97|          49|            2.0|         0.86|        6.0|  0.5|    0.5|       0.0|         0.0|     NULL|                  0.3|         7.3|         2.0|      1.0|                NULL|\n|       2| 2019-01-01 00:27:11|  2019-01-01 00:31:38|                 N|       1.0|          49|         189|            2.0|         0.66|        4.5|  0.5|    0.5|       0.0|         0.0|     NULL|                  0.3|         5.8|         1.0|      1.0|                NULL|\n|       2| 2019-01-01 00:46:20|  2019-01-01 01:04:54|                 N|       1.0|         189|          17|            2.0|         2.68|       13.5|  0.5|    0.5|      2.96|         0.0|     NULL|                  0.3|       19.71|         1.0|      1.0|                NULL|\n|       2| 2019-01-01 00:19:06|  2019-01-01 00:39:43|                 N|       1.0|          82|         258|            1.0|         4.53|       18.0|  0.5|    0.5|       0.0|         0.0|     NULL|                  0.3|        19.3|         2.0|      1.0|                NULL|\n+--------+--------------------+---------------------+------------------+----------+------------+------------+---------------+-------------+-----------+-----+-------+----------+------------+---------+---------------------+------------+------------+---------+--------------------+\nonly showing top 5 rows\n\n+--------------------+-------------------+-------------------+------------+------------+-------+----------------------+\n|dispatching_base_num|    pickup_datetime|   dropOff_datetime|PUlocationID|DOlocationID|SR_Flag|Affiliated_base_number|\n+--------------------+-------------------+-------------------+------------+------------+-------+----------------------+\n|              B00001|2019-01-01 00:30:00|2019-01-01 02:51:55|        NULL|        NULL|   NULL|                B00001|\n|              B00001|2019-01-01 00:45:00|2019-01-01 00:54:49|        NULL|        NULL|   NULL|                B00001|\n|              B00001|2019-01-01 00:15:00|2019-01-01 00:54:52|        NULL|        NULL|   NULL|                B00001|\n|              B00008|2019-01-01 00:19:00|2019-01-01 00:39:00|        NULL|        NULL|   NULL|                B00008|\n|              B00008|2019-01-01 00:27:00|2019-01-01 00:37:00|        NULL|        NULL|   NULL|                B00008|\n+--------------------+-------------------+-------------------+------------+------------+-------+----------------------+\nonly showing top 5 rows\n\n+--------+--------------------+---------------------+---------------+-------------+----------+------------------+------------+------------+------------+-----------+-----+-------+----------+------------+---------------------+------------+--------------------+-----------+\n|VendorID|tpep_pickup_datetime|tpep_dropoff_datetime|passenger_count|trip_distance|RatecodeID|store_and_fwd_flag|PULocationID|DOLocationID|payment_type|fare_amount|extra|mta_tax|tip_amount|tolls_amount|improvement_surcharge|total_amount|congestion_surcharge|airport_fee|\n+--------+--------------------+---------------------+---------------+-------------+----------+------------------+------------+------------+------------+-----------+-----+-------+----------+------------+---------------------+------------+--------------------+-----------+\n|       1| 2019-02-01 00:59:04|  2019-02-01 01:07:27|            1.0|          2.1|       1.0|                 N|          48|         234|           1|        9.0|  0.5|    0.5|       2.0|         0.0|                  0.3|        12.3|                 0.0|       NULL|\n|       1| 2019-02-01 00:33:09|  2019-02-01 01:03:58|            1.0|          9.8|       1.0|                 N|         230|          93|           2|       32.0|  0.5|    0.5|       0.0|         0.0|                  0.3|        33.3|                 0.0|       NULL|\n|       1| 2019-02-01 00:09:03|  2019-02-01 00:09:16|            1.0|          0.0|       1.0|                 N|         145|         145|           2|        2.5|  0.5|    0.5|       0.0|         0.0|                  0.3|         3.8|                 0.0|       NULL|\n|       1| 2019-02-01 00:45:38|  2019-02-01 00:51:10|            1.0|          0.8|       1.0|                 N|          95|          95|           2|        5.5|  0.5|    0.5|       0.0|         0.0|                  0.3|         6.8|                 0.0|       NULL|\n|       1| 2019-02-01 00:25:30|  2019-02-01 00:28:14|            1.0|          0.8|       1.0|                 N|         140|         263|           2|        5.0|  0.5|    0.5|       0.0|         0.0|                  0.3|         6.3|                 0.0|       NULL|\n+--------+--------------------+---------------------+---------------+-------------+----------+------------------+------------+------------+------------+-----------+-----+-------+----------+------------+---------------------+------------+--------------------+-----------+\nonly showing top 5 rows\n\n+--------+--------------------+---------------------+------------------+----------+------------+------------+---------------+-------------+-----------+-----+-------+----------+------------+---------+---------------------+------------+------------+---------+--------------------+\n|VendorID|lpep_pickup_datetime|lpep_dropoff_datetime|store_and_fwd_flag|RatecodeID|PULocationID|DOLocationID|passenger_count|trip_distance|fare_amount|extra|mta_tax|tip_amount|tolls_amount|ehail_fee|improvement_surcharge|total_amount|payment_type|trip_type|congestion_surcharge|\n+--------+--------------------+---------------------+------------------+----------+------------+------------+---------------+-------------+-----------+-----+-------+----------+------------+---------+---------------------+------------+------------+---------+--------------------+\n|       2| 2019-02-01 00:10:19|  2019-02-01 00:21:43|                 N|       1.0|          92|         135|            1.0|         2.79|       11.0|  0.5|    0.5|      3.08|         0.0|     NULL|                  0.3|       15.38|         1.0|      1.0|                 0.0|\n|       2| 2019-02-01 00:02:16|  2019-02-01 00:24:37|                 N|       1.0|          66|          36|            1.0|         4.46|       17.5|  0.5|    0.5|      3.76|         0.0|     NULL|                  0.3|       22.56|         1.0|      1.0|                 0.0|\n|       2| 2019-02-01 00:37:19|  2019-02-01 00:43:07|                 N|       1.0|         255|         112|            1.0|         1.26|        6.0|  0.5|    0.5|      1.46|         0.0|     NULL|                  0.3|        8.76|         1.0|      1.0|                 0.0|\n|       1| 2019-02-01 00:10:10|  2019-02-01 00:12:21|                 N|       1.0|          75|         238|            1.0|          0.7|        4.0|  0.5|    0.5|       0.0|         0.0|     NULL|                  0.3|         5.3|         2.0|      1.0|                 0.0|\n|       1| 2019-02-01 00:30:19|  2019-02-01 00:46:14|                 N|       1.0|          75|          48|            1.0|          3.9|       14.5|  0.5|    0.5|       0.0|         0.0|     NULL|                  0.3|        15.8|         2.0|      1.0|                 0.0|\n+--------+--------------------+---------------------+------------------+----------+------------+------------+---------------+-------------+-----------+-----+-------+----------+------------+---------+---------------------+------------+------------+---------+--------------------+\nonly showing top 5 rows\n\n+--------------------+-------------------+-------------------+------------+------------+-------+----------------------+\n|dispatching_base_num|    pickup_datetime|   dropOff_datetime|PUlocationID|DOlocationID|SR_Flag|Affiliated_base_number|\n+--------------------+-------------------+-------------------+------------+------------+-------+----------------------+\n|              B00037|2019-02-01 00:08:44|2019-02-01 00:23:35|       264.0|       265.0|   NULL|                B00037|\n|              B00037|2019-02-01 00:27:51|2019-02-01 00:32:54|       264.0|       265.0|   NULL|                B00037|\n|              B00037|2019-02-01 00:18:30|2019-02-01 00:25:45|       264.0|       265.0|   NULL|                B00037|\n|              B00037|2019-02-01 00:43:15|2019-02-01 00:48:29|       264.0|       265.0|   NULL|                B00037|\n|              B00037|2019-02-01 00:01:45|2019-02-01 00:09:13|       264.0|       265.0|   NULL|                B00037|\n+--------------------+-------------------+-------------------+------------+------------+-------+----------------------+\nonly showing top 5 rows\n\n+-----------------+--------------------+--------------------+-------------------+-------------------+-------------------+-------------------+------------+------------+----------+---------+-------------------+-----+----+---------+--------------------+-----------+----+----------+-------------------+-----------------+------------------+----------------+--------------+\n|hvfhs_license_num|dispatching_base_num|originating_base_num|   request_datetime|  on_scene_datetime|    pickup_datetime|   dropoff_datetime|PULocationID|DOLocationID|trip_miles|trip_time|base_passenger_fare|tolls| bcf|sales_tax|congestion_surcharge|airport_fee|tips|driver_pay|shared_request_flag|shared_match_flag|access_a_ride_flag|wav_request_flag|wav_match_flag|\n+-----------------+--------------------+--------------------+-------------------+-------------------+-------------------+-------------------+------------+------------+----------+---------+-------------------+-----+----+---------+--------------------+-----------+----+----------+-------------------+-----------------+------------------+----------------+--------------+\n|           HV0003|              B02867|              B02867|2019-02-01 00:01:26|2019-02-01 00:02:55|2019-02-01 00:05:18|2019-02-01 00:14:57|         245|         251|      2.45|      579|               9.35|  0.0|0.23|     0.83|                 0.0|       NULL| 0.0|      7.48|                  Y|                N|                 N|               N|          NULL|\n|           HV0003|              B02879|              B02879|2019-02-01 00:26:08|2019-02-01 00:41:29|2019-02-01 00:41:29|2019-02-01 00:49:39|         216|         197|      1.71|      490|               7.91|  0.0| 0.2|      0.7|                 0.0|       NULL| 2.0|      7.93|                  N|                N|                 N|               N|          NULL|\n|           HV0005|              B02510|                NULL|2019-02-01 00:48:58|               NULL|2019-02-01 00:51:34|2019-02-01 01:28:29|         261|         234|      5.01|     2159|              44.96|  0.0|1.12|     3.99|                 0.0|       NULL| 0.0|     35.97|                  N|                Y|                 N|               N|          NULL|\n|           HV0005|              B02510|                NULL|2019-02-01 00:02:15|               NULL|2019-02-01 00:03:51|2019-02-01 00:07:16|          87|          87|      0.34|      179|               7.19|  0.0|0.18|     0.64|                 0.0|       NULL| 3.0|      5.39|                  N|                Y|                 N|               N|          NULL|\n|           HV0005|              B02510|                NULL|2019-02-01 00:06:17|               NULL|2019-02-01 00:09:44|2019-02-01 00:39:56|          87|         198|      6.84|     1799|              24.25| 0.11|0.61|     2.16|                 0.0|       NULL| 4.0|     17.07|                  N|                Y|                 N|               N|          NULL|\n+-----------------+--------------------+--------------------+-------------------+-------------------+-------------------+-------------------+------------+------------+----------+---------+-------------------+-----+----+---------+--------------------+-----------+----+----------+-------------------+-----------------+------------------+----------------+--------------+\nonly showing top 5 rows\n\n+--------+--------------------+---------------------+---------------+-------------+----------+------------------+------------+------------+------------+-----------+-----+-------+----------+------------+---------------------+------------+--------------------+-----------+\n|VendorID|tpep_pickup_datetime|tpep_dropoff_datetime|passenger_count|trip_distance|RatecodeID|store_and_fwd_flag|PULocationID|DOLocationID|payment_type|fare_amount|extra|mta_tax|tip_amount|tolls_amount|improvement_surcharge|total_amount|congestion_surcharge|airport_fee|\n+--------+--------------------+---------------------+---------------+-------------+----------+------------------+------------+------------+------------+-----------+-----+-------+----------+------------+---------------------+------------+--------------------+-----------+\n|       1| 2019-03-01 00:24:41|  2019-03-01 00:25:31|            1.0|          0.0|       1.0|                 N|         145|         145|           2|        2.5|  0.5|    0.5|       0.0|         0.0|                  0.3|         3.8|                 0.0|       NULL|\n|       1| 2019-03-01 00:25:27|  2019-03-01 00:36:37|            2.0|          3.7|       1.0|                 N|          95|         130|           1|       13.0|  0.5|    0.5|       0.7|         0.0|                  0.3|        15.0|                 0.0|       NULL|\n|       1| 2019-03-01 00:05:21|  2019-03-01 00:38:23|            1.0|         14.1|       1.0|                 N|         249|          28|           1|       41.0|  3.0|    0.5|      10.1|        5.76|                  0.3|       60.66|                 2.5|       NULL|\n|       1| 2019-03-01 00:48:55|  2019-03-01 01:06:03|            1.0|          9.6|       1.0|                 N|         138|          98|           2|       27.0|  0.5|    0.5|       0.0|         0.0|                  0.3|        28.3|                 0.0|       NULL|\n|       1| 2019-03-01 00:11:42|  2019-03-01 00:16:40|            1.0|          0.8|       1.0|                 N|          48|          48|           1|        5.5|  3.0|    0.5|       3.0|         0.0|                  0.3|        12.3|                 2.5|       NULL|\n+--------+--------------------+---------------------+---------------+-------------+----------+------------------+------------+------------+------------+-----------+-----+-------+----------+------------+---------------------+------------+--------------------+-----------+\nonly showing top 5 rows\n\n+--------+--------------------+---------------------+------------------+----------+------------+------------+---------------+-------------+-----------+-----+-------+----------+------------+---------+---------------------+------------+------------+---------+--------------------+\n|VendorID|lpep_pickup_datetime|lpep_dropoff_datetime|store_and_fwd_flag|RatecodeID|PULocationID|DOLocationID|passenger_count|trip_distance|fare_amount|extra|mta_tax|tip_amount|tolls_amount|ehail_fee|improvement_surcharge|total_amount|payment_type|trip_type|congestion_surcharge|\n+--------+--------------------+---------------------+------------------+----------+------------+------------+---------------+-------------+-----------+-----+-------+----------+------------+---------+---------------------+------------+------------+---------+--------------------+\n|       2| 2019-03-01 00:02:21|  2019-03-01 00:04:52|                 N|       1.0|         193|         193|            1.0|          0.0|        3.5|  0.5|    0.5|      1.44|         0.0|     NULL|                  0.3|        6.24|         1.0|      1.0|                 0.0|\n|       2| 2019-03-01 00:42:31|  2019-03-01 00:47:42|                 N|       1.0|          80|         256|            1.0|         0.72|        5.5|  0.5|    0.5|      1.36|         0.0|     NULL|                  0.3|        8.16|         1.0|      1.0|                 0.0|\n|       1| 2019-03-01 00:15:53|  2019-03-01 00:18:37|                 N|       1.0|           7|         179|            1.0|          0.5|        4.0|  0.5|    0.5|       0.0|         0.0|     NULL|                  0.3|         5.3|         2.0|      1.0|                 0.0|\n|       2| 2019-02-28 23:55:58|  2019-03-01 00:01:30|                 N|       1.0|         256|          80|            1.0|         1.19|        6.0|  0.5|    0.5|      1.46|         0.0|     NULL|                  0.3|        8.76|         1.0|      1.0|                 0.0|\n|       2| 2019-03-01 00:55:58|  2019-03-01 00:58:12|                 N|       1.0|         223|         223|            1.0|         0.55|        4.0|  0.5|    0.5|       0.0|         0.0|     NULL|                  0.3|         5.3|         2.0|      1.0|                 0.0|\n+--------+--------------------+---------------------+------------------+----------+------------+------------+---------------+-------------+-----------+-----+-------+----------+------------+---------+---------------------+------------+------------+---------+--------------------+\nonly showing top 5 rows\n\n+--------------------+-------------------+-------------------+------------+------------+-------+----------------------+\n|dispatching_base_num|    pickup_datetime|   dropOff_datetime|PUlocationID|DOlocationID|SR_Flag|Affiliated_base_number|\n+--------------------+-------------------+-------------------+------------+------------+-------+----------------------+\n|              B00013|2019-03-01 00:09:15|2019-03-01 00:26:20|       264.0|       264.0|   NULL|                B00013|\n|              B00013|2019-03-01 00:00:08|2019-03-02 00:30:33|       264.0|       264.0|   NULL|                B00013|\n|              B00013|2019-03-01 00:55:38|2019-03-01 01:03:13|       264.0|       264.0|   NULL|                B00013|\n|              B00013|2019-03-01 00:56:30|2019-03-01 01:00:43|       264.0|       264.0|   NULL|                B00013|\n|              B00014|2019-03-01 00:53:03|2019-03-01 00:59:46|       264.0|       264.0|   NULL|                B00014|\n+--------------------+-------------------+-------------------+------------+------------+-------+----------------------+\nonly showing top 5 rows\n\n+-----------------+--------------------+--------------------+-------------------+-------------------+-------------------+-------------------+------------+------------+----------+---------+-------------------+-----+----+---------+--------------------+-----------+----+----------+-------------------+-----------------+------------------+----------------+--------------+\n|hvfhs_license_num|dispatching_base_num|originating_base_num|   request_datetime|  on_scene_datetime|    pickup_datetime|   dropoff_datetime|PULocationID|DOLocationID|trip_miles|trip_time|base_passenger_fare|tolls| bcf|sales_tax|congestion_surcharge|airport_fee|tips|driver_pay|shared_request_flag|shared_match_flag|access_a_ride_flag|wav_request_flag|wav_match_flag|\n+-----------------+--------------------+--------------------+-------------------+-------------------+-------------------+-------------------+------------+------------+----------+---------+-------------------+-----+----+---------+--------------------+-----------+----+----------+-------------------+-----------------+------------------+----------------+--------------+\n|           HV0004|              B02800|                NULL|2019-03-01 00:09:09|               NULL|2019-03-01 00:13:55|2019-03-01 00:28:51|          36|          80|      2.18|      896|               4.73|  0.0| 0.0|     0.42|                 0.0|       NULL| 0.0|       0.0|                  Y|                Y|                 N|               N|          NULL|\n|           HV0004|              B02800|                NULL|2019-03-01 00:16:37|               NULL|2019-03-01 00:23:58|2019-03-01 00:43:03|          37|         232|      3.66|     1144|               9.83|  0.0| 0.0|     0.72|                0.75|       NULL| 0.0|       0.0|                  Y|                Y|                 N|               N|          NULL|\n|           HV0005|              B02510|                NULL|2019-02-28 23:59:00|               NULL|2019-03-01 00:03:37|2019-03-01 00:15:09|          25|          62|      2.53|      660|              11.54|  0.0|0.29|     1.02|                 0.0|       NULL| 0.0|      8.48|                  N|                N|                 N|               N|          NULL|\n|           HV0003|              B02884|              B02884|2019-03-01 00:26:41|2019-03-01 00:28:13|2019-03-01 00:29:46|2019-03-01 00:50:43|          65|         262|      9.34|     1256|              24.19|  0.0|0.61|     2.17|                2.75|       NULL| 0.0|     20.62|                  N|                N|                 N|               N|          NULL|\n|           HV0003|              B02884|              B02884|2019-03-01 00:56:43|2019-03-01 00:56:57|2019-03-01 00:58:56|2019-03-01 01:20:47|         140|         196|      7.88|     1311|              19.39|  0.0| 0.5|     1.78|                2.75|       NULL| 0.0|     19.49|                  N|                N|                 N|               N|          NULL|\n+-----------------+--------------------+--------------------+-------------------+-------------------+-------------------+-------------------+------------+------------+----------+---------+-------------------+-----+----+---------+--------------------+-----------+----+----------+-------------------+-----------------+------------------+----------------+--------------+\nonly showing top 5 rows\n\nData loaded and displayed.\n"
     ]
    }
   ],
   "source": [
    "import os\n",
    "import requests\n",
    "from bs4 import BeautifulSoup\n",
    "from time import sleep\n",
    "from requests.adapters import HTTPAdapter\n",
    "from urllib3.util.retry import Retry\n",
    "import pandas as pd\n",
    "\n",
    "# Create a session to handle retries\n",
    "session = requests.Session()\n",
    "retries = Retry(total=5, backoff_factor=1, status_forcelist=[429, 500, 502, 503, 504])\n",
    "session.mount('http://', HTTPAdapter(max_retries=retries))\n",
    "session.mount('https://', HTTPAdapter(max_retries=retries))\n",
    "\n",
    "# Define the base URL for scraping and the local directory to save the files\n",
    "scrape_url = \"https://www.nyc.gov/site/tlc/about/tlc-trip-record-data.page\"\n",
    "local_dir = \"/tmp/nyc_taxi_data_2019\"  # Local temporary storage in Databricks\n",
    "\n",
    "# Create the local directory if it doesn't exist\n",
    "os.makedirs(local_dir, exist_ok=True)\n",
    "\n",
    "# Function to download a file with retries\n",
    "def download_file(url, output_path):\n",
    "    try:\n",
    "        response = session.get(url, stream=True)\n",
    "        response.raise_for_status()  # Raise an error for bad status codes\n",
    "        with open(output_path, 'wb') as f:\n",
    "            for chunk in response.iter_content(chunk_size=8192):\n",
    "                if chunk:\n",
    "                    f.write(chunk)\n",
    "        print(f\"Successfully downloaded {output_path}\")\n",
    "    except requests.exceptions.RequestException as e:\n",
    "        print(f\"Failed to download {url}: {e}\")\n",
    "\n",
    "# Scrape the website to find the correct URLs\n",
    "response = session.get(scrape_url)\n",
    "soup = BeautifulSoup(response.text, 'html.parser')\n",
    "links = soup.find_all('a', href=True)\n",
    "\n",
    "# Filter and download parquet files for the first three months of 2019\n",
    "parquet_files = []\n",
    "months = ['01', '02', '03']\n",
    "for link in links:\n",
    "    href = link['href']\n",
    "    if any(f'2019-{month}' in href for month in months) and href.endswith('.parquet'):\n",
    "        filename = href.split('/')[-1]\n",
    "        url = href\n",
    "        output_path = os.path.join(local_dir, filename)\n",
    "        download_file(url, output_path)\n",
    "        parquet_files.append(output_path)\n",
    "        sleep(1)  # Sleep for a short time between requests to avoid overloading the server\n",
    "\n",
    "print(\"Download completed.\")\n",
    "\n",
    "# Copy the downloaded files to DBFS\n",
    "dbfs_dir = \"/mnt/nyc_taxi_data_2019\"  # Change to your desired DBFS path\n",
    "\n",
    "# Create the DBFS directory if it doesn't exist\n",
    "dbutils.fs.mkdirs(dbfs_dir)\n",
    "\n",
    "# Copy files to DBFS\n",
    "for local_file in parquet_files:\n",
    "    dbfs_file = os.path.join(dbfs_dir, os.path.basename(local_file))\n",
    "    dbutils.fs.cp(f\"file:{local_file}\", dbfs_file)\n",
    "    print(f\"Copied {local_file} to {dbfs_file}\")\n",
    "\n",
    "print(\"Files copied to DBFS.\")\n",
    "\n",
    "# Read and display data from each parquet file in DBFS using Spark\n",
    "for local_file in parquet_files:\n",
    "    dbfs_file = os.path.join(dbfs_dir, os.path.basename(local_file))\n",
    "    df = spark.read.parquet(dbfs_file)\n",
    "    df.show(5)\n",
    "\n",
    "print(\"Data loaded and displayed.\")\n"
   ]
  },
  {
   "cell_type": "markdown",
   "metadata": {
    "application/vnd.databricks.v1+cell": {
     "cellMetadata": {},
     "inputWidgets": {},
     "nuid": "ef2fdfe2-2c5b-44d0-aa80-6debdbc3398a",
     "showTitle": false,
     "title": ""
    }
   },
   "source": [
    "Data Processing\n",
    "\n",
    "Task: Clean and transform the data using Python and Pandas.\n",
    "Remove any trips that have missing or corrupt data.\n",
    "Derive new columns such as trip duration and average speed.\n",
    "Aggregate data to calculate total trips and average fare per day."
   ]
  },
  {
   "cell_type": "code",
   "execution_count": 0,
   "metadata": {
    "application/vnd.databricks.v1+cell": {
     "cellMetadata": {
      "byteLimit": 2048000,
      "rowLimit": 10000
     },
     "inputWidgets": {},
     "nuid": "d2cb57b4-3ac5-4d30-81e7-1c7b25d3283a",
     "showTitle": false,
     "title": ""
    }
   },
   "outputs": [
    {
     "output_type": "stream",
     "name": "stdout",
     "output_type": "stream",
     "text": [
      "Description of yellow data for 2019-01:\n       trip_distance   fare_amount  trip_duration  average_speed\ncount   7.690060e+06  7.690060e+06   7.690060e+06   7.690060e+06\nmean    2.832390e+00  1.243029e+01   1.658014e+01   1.318942e+01\nstd     3.775024e+00  2.250695e+02   7.516960e+01   1.374931e+02\nmin     0.000000e+00 -3.620000e+02   1.666667e-02   0.000000e+00\n25%     9.000000e-01  6.000000e+00   6.116667e+00   7.594937e+00\n50%     1.540000e+00  9.000000e+00   1.020000e+01   1.010204e+01\n75%     2.840000e+00  1.350000e+01   1.666667e+01   1.377049e+01\nmax     8.318000e+02  6.232599e+05   4.364802e+04   7.344000e+04\n  pickup_date  total_trips  average_fare\n0  2001-02-02            1      2.500000\n1  2003-01-01            1      0.000000\n2  2008-12-31           22     12.636364\n3  2009-01-01           48     13.510417\n4  2018-11-28           10     70.015000\nDescription of green data for 2019-01:\n       trip_distance    fare_amount  trip_duration  average_speed\ncount  671386.000000  671386.000000  671386.000000  671386.000000\nmean        3.810468      15.643327      22.590221      14.350011\nstd         4.372363      13.935513      93.525019     131.185620\nmin         0.000000    -120.000000       0.016667       0.000000\n25%         1.100000       6.500000       6.700000       8.850000\n50%         2.130000      10.500000      11.966667      11.300248\n75%         4.730000      19.290000      21.516667      15.165709\nmax       117.990000     400.000000    1439.966667   54072.000000\n  pickup_date  total_trips  average_fare\n0  2009-01-01           12     16.083333\n1  2010-09-23           11      9.727273\n2  2018-12-04           10     15.745000\n3  2018-12-05           22     11.155455\n4  2018-12-07            3     43.000000\nError processing /tmp/nyc_taxi_data_2019/fhvhv_tripdata_2019-01.parquet: [Errno 2] No such file or directory: '/tmp/nyc_taxi_data_2019/fhvhv_tripdata_2019-01.parquet'\nDescription of yellow data for 2019-02:\n       trip_distance   fare_amount  trip_duration  average_speed\ncount   7.042975e+06  7.042975e+06   7.042975e+06   7.042975e+06\nmean    2.919829e+00  1.286451e+01   1.730522e+01   1.268028e+01\nstd     3.820453e+00  2.531468e+02   7.125193e+01   1.305092e+02\nmin     0.000000e+00 -4.000000e+02   1.666667e-02   0.000000e+00\n25%     9.500000e-01  6.500000e+00   6.466667e+00   7.349716e+00\n50%     1.600000e+00  9.000000e+00   1.083333e+01   9.829352e+00\n75%     2.960000e+00  1.400000e+01   1.773333e+01   1.344917e+01\nmax     7.015000e+02  6.711231e+05   2.598798e+04   8.820000e+04\n  pickup_date  total_trips  average_fare\n0  2008-12-31           22     18.500000\n1  2009-01-01           59     15.728814\n2  2009-01-02            2      6.250000\n3  2019-01-20            1      1.500000\n4  2019-01-30            1      0.000000\nDescription of green data for 2019-02:\n       trip_distance    fare_amount  trip_duration  average_speed\ncount  614065.000000  614065.000000  614065.000000  614065.000000\nmean        3.909098      16.092455      23.283427      15.149921\nstd         4.997706      15.621734      94.655714     795.354873\nmin         0.000000    -249.000000       0.016667       0.000000\n25%         1.110000       7.000000       6.966667       8.682194\n50%         2.200000      11.000000      12.483333      11.100000\n75%         4.860000      20.000000      22.600000      14.873857\nmax       666.600000    4011.500000    8034.800000  599940.000000\n  pickup_date  total_trips  average_fare\n0  2009-01-01           11     12.318182\n1  2010-09-23            8     17.312500\n2  2019-01-31           25      8.120000\n3  2019-02-01        26735     15.572340\n4  2019-02-02        23762     14.415824\nDescription of fhvhv data for 2019-02:\n       trip_distance   fare_amount  trip_duration  average_speed\ncount   2.015906e+07  2.015906e+07   2.015906e+07   2.015906e+07\nmean    4.660535e+00  1.570784e+01   1.875106e+01   1.354399e+01\nstd     5.415591e+00  1.612573e+01   1.288257e+01   1.605397e+01\nmin     0.000000e+00 -1.632800e+02   1.666667e-02   0.000000e+00\n25%     1.560000e+00  6.690000e+00   9.733333e+00   8.745763e+00\n50%     2.880000e+00  1.074000e+01   1.560000e+01   1.156437e+01\n75%     5.670000e+00  1.898000e+01   2.440000e+01   1.609745e+01\nmax     4.692600e+02  1.097290e+03   1.397450e+03   2.099880e+04\n  pickup_date  total_trips  average_fare\n0  2019-02-01       860160     15.805291\n1  2019-02-02       866389     14.794200\n2  2019-02-03       756721     15.236325\n3  2019-02-04       592170     16.363063\n4  2019-02-05       576476     16.348066\nDescription of yellow data for 2019-03:\n       trip_distance   fare_amount  trip_duration  average_speed\ncount   7.860378e+06  7.860378e+06   7.860378e+06   7.860378e+06\nmean    3.025435e+00  1.328182e+01   1.774530e+01   1.326154e+01\nstd     3.928532e+00  3.421930e+02   7.127709e+01   1.943092e+02\nmin     0.000000e+00 -4.470000e+02   1.666667e-02   0.000000e+00\n25%     9.800000e-01  6.500000e+00   6.600000e+00   7.403055e+00\n50%     1.630000e+00  9.500000e+00   1.108333e+01   9.944751e+00\n75%     3.100000e+00  1.450000e+01   1.826667e+01   1.358491e+01\nmax     2.371700e+02  9.432748e+05   2.745478e+04   1.051200e+05\n  pickup_date  total_trips  average_fare\n0  2002-12-31            1      3.000000\n1  2008-12-31            8     14.875000\n2  2009-01-01           39     13.153846\n3  2019-01-28            3      0.010000\n4  2019-02-19            6     94.085000\nDescription of green data for 2019-03:\n       trip_distance    fare_amount  trip_duration  average_speed\ncount  641557.000000  641557.000000  641557.000000  641557.000000\nmean        3.861292      15.851675      23.141559      13.612899\nstd         4.487659      14.359476      91.732816      87.620283\nmin         0.000000    -890.000000       0.016667       0.000000\n25%         1.120000       7.000000       7.016667       8.628828\n50%         2.180000      11.000000      12.500000      11.013699\n75%         4.790000      19.500000      22.566667      14.642308\nmax       603.800000     944.980000    5784.233333   30240.000000\n  pickup_date  total_trips  average_fare\n0  2009-01-01            9     11.722222\n1  2010-09-23            1     10.000000\n2  2018-03-07            1      1.200000\n3  2019-02-14            5      3.700000\n4  2019-02-15            4     10.500000\nDescription of fhvhv data for 2019-03:\n       trip_distance   fare_amount  trip_duration  average_speed\ncount   2.386457e+07  2.386457e+07   2.386457e+07   2.386457e+07\nmean    4.699493e+00  1.542858e+01   1.901232e+01   1.351129e+01\nstd     5.419778e+00  1.627526e+01   1.325471e+01   1.555110e+01\nmin     0.000000e+00 -1.490200e+02   1.666667e-02   0.000000e+00\n25%     1.580000e+00  6.600000e+00   9.766667e+00   8.803361e+00\n50%     2.910000e+00  1.018000e+01   1.568333e+01   1.158318e+01\n75%     5.720000e+00  1.840000e+01   2.465000e+01   1.606702e+01\nmax     4.525500e+02  2.255490e+03   1.382517e+03   1.988400e+04\n  pickup_date  total_trips  average_fare\n0  2019-03-01       837591     16.092853\n1  2019-03-02       900380     14.738193\n2  2019-03-03       796164     14.729392\n3  2019-03-04       621065     14.552074\n4  2019-03-05       710006     14.781049\nData processing completed.\n"
     ]
    }
   ],
   "source": [
    "import os\n",
    "import pandas as pd\n",
    "from datetime import datetime\n",
    "\n",
    "# Define local directory\n",
    "local_dir = \"/tmp/nyc_taxi_data_2019\"\n",
    "\n",
    "# Function to process data\n",
    "def process_data(file_path, pickup_col, dropoff_col, distance_col, fare_col):\n",
    "    # Read parquet file into DataFrame\n",
    "    df = pd.read_parquet(file_path)\n",
    "    \n",
    "    # Select necessary columns and drop missing values\n",
    "    df = df[[pickup_col, dropoff_col, distance_col, fare_col]].dropna()\n",
    "    \n",
    "    # Rename columns\n",
    "    df.columns = ['pickup_datetime', 'dropoff_datetime', 'trip_distance', 'fare_amount']\n",
    "    \n",
    "    # Convert datetime columns\n",
    "    df['pickup_datetime'] = pd.to_datetime(df['pickup_datetime'])\n",
    "    df['dropoff_datetime'] = pd.to_datetime(df['dropoff_datetime'])\n",
    "    \n",
    "    # Derive new columns: trip duration (minutes) and average speed (mph)\n",
    "    df['trip_duration'] = (df['dropoff_datetime'] - df['pickup_datetime']).dt.total_seconds() / 60\n",
    "    df['average_speed'] = df['trip_distance'] / (df['trip_duration'] / 60)\n",
    "    \n",
    "    # Remove invalid data\n",
    "    df = df[(df['trip_duration'] > 0) & (df['average_speed'].notnull())]\n",
    "    \n",
    "    # Aggregate data: total trips and average fare per day\n",
    "    df['pickup_date'] = df['pickup_datetime'].dt.date\n",
    "    agg_df = df.groupby('pickup_date').agg(\n",
    "        total_trips=('trip_distance', 'count'),\n",
    "        average_fare=('fare_amount', 'mean')\n",
    "    ).reset_index()\n",
    "    \n",
    "    return df, agg_df\n",
    "\n",
    "# Process each file and display results\n",
    "for month in ['01', '02', '03']:\n",
    "    for taxi_type, pickup_col, dropoff_col, distance_col, fare_col in [\n",
    "        ('yellow', 'tpep_pickup_datetime', 'tpep_dropoff_datetime', 'trip_distance', 'fare_amount'),\n",
    "        ('green', 'lpep_pickup_datetime', 'lpep_dropoff_datetime', 'trip_distance', 'fare_amount'),\n",
    "        ('fhvhv', 'pickup_datetime', 'dropoff_datetime', 'trip_miles', 'base_passenger_fare')\n",
    "    ]:\n",
    "        # Get file path\n",
    "        file_path = os.path.join(local_dir, f'{taxi_type}_tripdata_2019-{month}.parquet')\n",
    "        \n",
    "        # Process data\n",
    "        try:\n",
    "            df, agg_df = process_data(file_path, pickup_col, dropoff_col, distance_col, fare_col)\n",
    "            \n",
    "            # Show DataFrame description\n",
    "            print(f\"Description of {taxi_type} data for 2019-{month}:\")\n",
    "            print(df.describe())\n",
    "            \n",
    "            # Show aggregated results\n",
    "            print(agg_df.head())\n",
    "        except Exception as e:\n",
    "            print(f\"Error processing {file_path}: {e}\")\n",
    "\n",
    "print(\"Data processing completed.\")\n",
    "\n"
   ]
  },
  {
   "cell_type": "markdown",
   "metadata": {
    "application/vnd.databricks.v1+cell": {
     "cellMetadata": {},
     "inputWidgets": {},
     "nuid": "c1936a45-ebbd-4c53-9876-40edc99ca6bd",
     "showTitle": false,
     "title": ""
    }
   },
   "source": [
    "Data Loading\n",
    "\n",
    "Task: Load the processed data into an SQLite database.\n",
    "Design and implement a schema suitable for querying trip metrics.\n",
    "Use SQL to load data into the database efficiently."
   ]
  },
  {
   "cell_type": "code",
   "execution_count": 0,
   "metadata": {
    "application/vnd.databricks.v1+cell": {
     "cellMetadata": {
      "byteLimit": 2048000,
      "rowLimit": 10000
     },
     "inputWidgets": {},
     "nuid": "54eb6810-1c25-437c-901e-088e8447497b",
     "showTitle": false,
     "title": ""
    }
   },
   "outputs": [
    {
     "output_type": "stream",
     "name": "stdout",
     "output_type": "stream",
     "text": [
      "Data for yellow 2019-01 loaded into SQLite.\nData for green 2019-01 loaded into SQLite.\nError processing /tmp/nyc_taxi_data_2019/fhvhv_tripdata_2019-01.parquet: [Errno 2] No such file or directory: '/tmp/nyc_taxi_data_2019/fhvhv_tripdata_2019-01.parquet'\nData for yellow 2019-02 loaded into SQLite.\nData for green 2019-02 loaded into SQLite.\nData for fhvhv 2019-02 loaded into SQLite.\nData for yellow 2019-03 loaded into SQLite.\nData for green 2019-03 loaded into SQLite.\nData for fhvhv 2019-03 loaded into SQLite.\nData loading completed.\n"
     ]
    }
   ],
   "source": [
    "import os\n",
    "import pandas as pd\n",
    "import sqlite3\n",
    "from datetime import datetime\n",
    "\n",
    "# Define local directory\n",
    "local_dir = \"/tmp/nyc_taxi_data_2019\"\n",
    "\n",
    "# Function to process data\n",
    "def process_data(file_path, pickup_col, dropoff_col, distance_col, fare_col):\n",
    "    df = pd.read_parquet(file_path)\n",
    "    df = df[[pickup_col, dropoff_col, distance_col, fare_col]].dropna()\n",
    "    df.columns = ['pickup_datetime', 'dropoff_datetime', 'trip_distance', 'fare_amount']\n",
    "    df['pickup_datetime'] = pd.to_datetime(df['pickup_datetime'])\n",
    "    df['dropoff_datetime'] = pd.to_datetime(df['dropoff_datetime'])\n",
    "    df['trip_duration'] = (df['dropoff_datetime'] - df['pickup_datetime']).dt.total_seconds() / 60\n",
    "    df['average_speed'] = df['trip_distance'] / (df['trip_duration'] / 60)\n",
    "    df = df[(df['trip_duration'] > 0) & (df['average_speed'].notnull())]\n",
    "    df['pickup_date'] = df['pickup_datetime'].dt.date\n",
    "    agg_df = df.groupby('pickup_date').agg(\n",
    "        total_trips=('trip_distance', 'count'),\n",
    "        average_fare=('fare_amount', 'mean')\n",
    "    ).reset_index()\n",
    "    return df, agg_df\n",
    "\n",
    "# Connect to SQLite database (or create it)\n",
    "conn = sqlite3.connect('/tmp/nyc_taxi_data_2019.db')\n",
    "cursor = conn.cursor()\n",
    "\n",
    "# Create tables if not exist\n",
    "for taxi_type in ['yellow', 'green', 'fhvhv']:\n",
    "    for month in ['01', '02', '03']:\n",
    "        cursor.execute(f\"\"\"\n",
    "        CREATE TABLE IF NOT EXISTS {taxi_type}_trips_{month} (\n",
    "            pickup_datetime TEXT,\n",
    "            dropoff_datetime TEXT,\n",
    "            trip_distance REAL,\n",
    "            fare_amount REAL,\n",
    "            trip_duration REAL,\n",
    "            average_speed REAL,\n",
    "            pickup_date DATE\n",
    "        )\n",
    "        \"\"\")\n",
    "        cursor.execute(f\"\"\"\n",
    "        CREATE TABLE IF NOT EXISTS {taxi_type}_agg_{month} (\n",
    "            pickup_date DATE,\n",
    "            total_trips INTEGER,\n",
    "            average_fare REAL\n",
    "        )\n",
    "        \"\"\")\n",
    "        \n",
    "conn.commit()\n",
    "\n",
    "# Process each file and load into SQLite\n",
    "for month in ['01', '02', '03']:\n",
    "    for taxi_type, pickup_col, dropoff_col, distance_col, fare_col in [\n",
    "        ('yellow', 'tpep_pickup_datetime', 'tpep_dropoff_datetime', 'trip_distance', 'fare_amount'),\n",
    "        ('green', 'lpep_pickup_datetime', 'lpep_dropoff_datetime', 'trip_distance', 'fare_amount'),\n",
    "        ('fhvhv', 'pickup_datetime', 'dropoff_datetime', 'trip_miles', 'base_passenger_fare')\n",
    "    ]:\n",
    "        file_path = os.path.join(local_dir, f'{taxi_type}_tripdata_2019-{month}.parquet')\n",
    "        \n",
    "        try:\n",
    "            df, agg_df = process_data(file_path, pickup_col, dropoff_col, distance_col, fare_col)\n",
    "            \n",
    "            # Load data into SQLite tables\n",
    "            df.to_sql(f'{taxi_type}_trips_{month}', conn, if_exists='replace', index=False)\n",
    "            agg_df.to_sql(f'{taxi_type}_agg_{month}', conn, if_exists='replace', index=False)\n",
    "            \n",
    "            print(f\"Data for {taxi_type} 2019-{month} loaded into SQLite.\")\n",
    "        except Exception as e:\n",
    "            print(f\"Error processing {file_path}: {e}\")\n",
    "\n",
    "# Close the connection\n",
    "conn.close()\n",
    "\n",
    "print(\"Data loading completed.\")\n"
   ]
  },
  {
   "cell_type": "markdown",
   "metadata": {
    "application/vnd.databricks.v1+cell": {
     "cellMetadata": {},
     "inputWidgets": {},
     "nuid": "85fdf101-df31-4e01-84b8-1ea7ed0fe71a",
     "showTitle": false,
     "title": ""
    }
   },
   "source": [
    "Data Analysis and Reporting\n",
    "\n",
    "Task: Generate insights and reports from the database.\n",
    "Develop SQL queries to answer the following questions:\n",
    "    What are the peak hours for taxi usage?\n",
    "    How does passenger count affect the trip fare?\n",
    "    What are the trends in usage over the year?"
   ]
  },
  {
   "cell_type": "code",
   "execution_count": 0,
   "metadata": {
    "application/vnd.databricks.v1+cell": {
     "cellMetadata": {},
     "inputWidgets": {},
     "nuid": "a41a7621-0162-4e16-b621-209aac4b0f88",
     "showTitle": false,
     "title": ""
    }
   },
   "outputs": [],
   "source": [
    "%sql\n",
    "SELECT\n",
    "    HOUR(pickup_datetime) AS hour,\n",
    "    COUNT(*) AS trip_count\n",
    "FROM\n",
    "    (SELECT pickup_datetime FROM yellow_trips_01\n",
    "     UNION ALL\n",
    "     SELECT pickup_datetime FROM yellow_trips_02\n",
    "     UNION ALL\n",
    "     SELECT pickup_datetime FROM yellow_trips_03)\n",
    "GROUP BY\n",
    "    hour\n",
    "ORDER BY\n",
    "    trip_count DESC;"
   ]
  },
  {
   "cell_type": "code",
   "execution_count": 0,
   "metadata": {
    "application/vnd.databricks.v1+cell": {
     "cellMetadata": {},
     "inputWidgets": {},
     "nuid": "0138db41-421b-49da-b938-e89eb3bf39fb",
     "showTitle": false,
     "title": ""
    }
   },
   "outputs": [],
   "source": [
    "%sql\n",
    "SELECT\n",
    "    EXTRACT(HOUR FROM pickup_datetime) AS hour,\n",
    "    COUNT(*) AS trip_count\n",
    "FROM\n",
    "    trip_data\n",
    "GROUP BY\n",
    "    hour\n",
    "ORDER BY\n",
    "    hour;\n"
   ]
  },
  {
   "cell_type": "code",
   "execution_count": 0,
   "metadata": {
    "application/vnd.databricks.v1+cell": {
     "cellMetadata": {},
     "inputWidgets": {},
     "nuid": "e7fd2897-e496-4ba2-bfee-8932f2a419dc",
     "showTitle": false,
     "title": ""
    }
   },
   "outputs": [],
   "source": [
    "%sql\n",
    "SELECT\n",
    "    passenger_count,\n",
    "    AVG(fare_amount) AS average_fare\n",
    "FROM\n",
    "    taxi_trip_data\n",
    "GROUP BY\n",
    "    passenger_count\n",
    "ORDER BY\n",
    "    passenger_count;\n"
   ]
  },
  {
   "cell_type": "markdown",
   "metadata": {
    "application/vnd.databricks.v1+cell": {
     "cellMetadata": {},
     "inputWidgets": {},
     "nuid": "9041c75d-5bbf-4477-91ae-d79272645753",
     "showTitle": false,
     "title": ""
    }
   },
   "source": [
    "Create visualizations to represent the findings."
   ]
  },
  {
   "cell_type": "code",
   "execution_count": 0,
   "metadata": {
    "application/vnd.databricks.v1+cell": {
     "cellMetadata": {},
     "inputWidgets": {},
     "nuid": "b5f6a19e-22f8-4c8c-8f3a-a4acb733710b",
     "showTitle": false,
     "title": ""
    }
   },
   "outputs": [],
   "source": [
    "import sqlite3\n",
    "import pandas as pd\n",
    "import matplotlib.pyplot as plt\n",
    "import seaborn as sns\n",
    "\n",
    "def create_visualizations(db_name):\n",
    "    conn = sqlite3.connect(db_name)\n",
    "    \n",
    "    # Peak hours visualization\n",
    "    query = \"SELECT strftime('%H', pickup_datetime) as hour, COUNT(*) as total_trips FROM trips GROUP BY hour ORDER BY total_trips DESC LIMIT 10;\"\n",
    "    peak_hours = pd.read_sql(query, conn)\n",
    "    sns.barplot(x='hour', y='total_trips', data=peak_hours)\n",
    "    plt.title(\"Peak Hours for Taxi Usage\")\n",
    "    plt.show()\n",
    "    \n",
    "    # Passenger count effect on fare\n",
    "    query = \"SELECT passenger_count, AVG(fare_amount) as average_fare FROM trips GROUP BY passenger_count;\"\n",
    "    passenger_fares = pd.read_sql(query, conn)\n",
    "    sns.barplot(x='passenger_count', y='average_fare', data=passenger_fares)\n",
    "    plt.title(\"Effect of Passenger Count on Fare\")\n",
    "    plt.show()\n",
    "    \n",
    "    # Trends over the year\n",
    "    query = \"SELECT date, total_trips, average_fare FROM daily_aggregates ORDER BY date;\"\n",
    "    trends = pd.read_sql(query, conn)\n",
    "    trends['date'] = pd.to_datetime(trends['date'])\n",
    "    fig, ax1 = plt.subplots()\n",
    "    ax2 = ax1.twinx()\n",
    "    ax1.plot(trends['date'], trends['total_trips'], 'g-')\n",
    "    ax2.plot(trends['date'], trends['average_fare'], 'b-')\n",
    "    ax1.set_xlabel('Date')\n",
    "    ax1.set_ylabel('Total Trips', color='g')\n",
    "    ax2.set_ylabel('Average Fare', color='b')\n",
    "    plt.title(\"Trends in Taxi Usage Over the Year\")\n",
    "    plt.show()\n",
    "    \n",
    "    conn.close()\n",
    "\n",
    "if __name__ == \"__main__\":\n",
    "    create_visualizations(\"ny_taxi.db\")\n"
   ]
  }
 ],
 "metadata": {
  "application/vnd.databricks.v1+notebook": {
   "dashboards": [],
   "environmentMetadata": null,
   "language": "python",
   "notebookMetadata": {
    "mostRecentlyExecutedCommandWithImplicitDF": {
     "commandId": 539767163219838,
     "dataframes": [
      "_sqldf"
     ]
    },
    "pythonIndentUnit": 4
   },
   "notebookName": "NYC_TRIP_DATA_PROCESSING_ASSIGNMENT",
   "widgets": {}
  }
 },
 "nbformat": 4,
 "nbformat_minor": 0
}
