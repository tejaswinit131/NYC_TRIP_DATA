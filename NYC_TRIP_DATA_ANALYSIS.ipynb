{
 "cells": [
  {
   "cell_type": "code",
   "execution_count": 0,
   "metadata": {
    "application/vnd.databricks.v1+cell": {
     "cellMetadata": {},
     "inputWidgets": {},
     "nuid": "dc7d2b42-3d4b-474b-8aa9-7b48d2b24002",
     "showTitle": false,
     "title": ""
    }
   },
   "outputs": [],
   "source": [
    "%sql\n",
    "SELECT\n",
    "    HOUR(pickup_datetime) AS hour,\n",
    "    COUNT(*) AS trip_count\n",
    "FROM\n",
    "    (SELECT pickup_datetime FROM yellow_trips_01\n",
    "     UNION ALL\n",
    "     SELECT pickup_datetime FROM yellow_trips_02\n",
    "     UNION ALL\n",
    "     SELECT pickup_datetime FROM yellow_trips_03)\n",
    "GROUP BY\n",
    "    hour\n",
    "ORDER BY\n",
    "    trip_count DESC;"
   ]
  },
  {
   "cell_type": "code",
   "execution_count": 0,
   "metadata": {
    "application/vnd.databricks.v1+cell": {
     "cellMetadata": {},
     "inputWidgets": {},
     "nuid": "a5e93001-af96-4075-ba0d-5f25309f8ed4",
     "showTitle": false,
     "title": ""
    }
   },
   "outputs": [],
   "source": [
    "%sql\n",
    "SELECT\n",
    "    EXTRACT(HOUR FROM pickup_datetime) AS hour,\n",
    "    COUNT(*) AS trip_count\n",
    "FROM\n",
    "    trip_data\n",
    "GROUP BY\n",
    "    hour\n",
    "ORDER BY\n",
    "    hour;\n"
   ]
  },
  {
   "cell_type": "code",
   "execution_count": 0,
   "metadata": {
    "application/vnd.databricks.v1+cell": {
     "cellMetadata": {},
     "inputWidgets": {},
     "nuid": "2cdb72cc-5126-43c3-beb6-c2a5944a01ad",
     "showTitle": false,
     "title": ""
    }
   },
   "outputs": [],
   "source": [
    "%sql\n",
    "SELECT\n",
    "    passenger_count,\n",
    "    AVG(fare_amount) AS average_fare\n",
    "FROM\n",
    "    taxi_trip_data\n",
    "GROUP BY\n",
    "    passenger_count\n",
    "ORDER BY\n",
    "    passenger_count;\n"
   ]
  },
  {
   "cell_type": "code",
   "execution_count": 0,
   "metadata": {
    "application/vnd.databricks.v1+cell": {
     "cellMetadata": {},
     "inputWidgets": {},
     "nuid": "9fe2791f-469f-4c0b-b5dc-afcac154b7bd",
     "showTitle": false,
     "title": ""
    }
   },
   "outputs": [],
   "source": [
    "import sqlite3\n",
    "import pandas as pd\n",
    "import matplotlib.pyplot as plt\n",
    "import seaborn as sns\n",
    "\n",
    "def create_visualizations(db_name):\n",
    "    conn = sqlite3.connect(db_name)\n",
    "    \n",
    "    # Peak hours visualization\n",
    "    query = \"SELECT strftime('%H', pickup_datetime) as hour, COUNT(*) as total_trips FROM trips GROUP BY hour ORDER BY total_trips DESC LIMIT 10;\"\n",
    "    peak_hours = pd.read_sql(query, conn)\n",
    "    sns.barplot(x='hour', y='total_trips', data=peak_hours)\n",
    "    plt.title(\"Peak Hours for Taxi Usage\")\n",
    "    plt.show()\n",
    "    \n",
    "    # Passenger count effect on fare\n",
    "    query = \"SELECT passenger_count, AVG(fare_amount) as average_fare FROM trips GROUP BY passenger_count;\"\n",
    "    passenger_fares = pd.read_sql(query, conn)\n",
    "    sns.barplot(x='passenger_count', y='average_fare', data=passenger_fares)\n",
    "    plt.title(\"Effect of Passenger Count on Fare\")\n",
    "    plt.show()\n",
    "    \n",
    "    # Trends over the year\n",
    "    query = \"SELECT date, total_trips, average_fare FROM daily_aggregates ORDER BY date;\"\n",
    "    trends = pd.read_sql(query, conn)\n",
    "    trends['date'] = pd.to_datetime(trends['date'])\n",
    "    fig, ax1 = plt.subplots()\n",
    "    ax2 = ax1.twinx()\n",
    "    ax1.plot(trends['date'], trends['total_trips'], 'g-')\n",
    "    ax2.plot(trends['date'], trends['average_fare'], 'b-')\n",
    "    ax1.set_xlabel('Date')\n",
    "    ax1.set_ylabel('Total Trips', color='g')\n",
    "    ax2.set_ylabel('Average Fare', color='b')\n",
    "    plt.title(\"Trends in Taxi Usage Over the Year\")\n",
    "    plt.show()\n",
    "    \n",
    "    conn.close()\n",
    "\n",
    "if __name__ == \"__main__\":\n",
    "    create_visualizations(\"ny_taxi.db\")\n"
   ]
  }
 ],
 "metadata": {
  "application/vnd.databricks.v1+notebook": {
   "dashboards": [],
   "environmentMetadata": null,
   "language": "python",
   "notebookMetadata": {
    "pythonIndentUnit": 4
   },
   "notebookName": "NYC_TRIP_DATA_ANALYSIS",
   "widgets": {}
  }
 },
 "nbformat": 4,
 "nbformat_minor": 0
}
