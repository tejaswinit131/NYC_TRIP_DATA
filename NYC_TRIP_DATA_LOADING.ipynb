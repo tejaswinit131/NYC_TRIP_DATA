{
 "cells": [
  {
   "cell_type": "code",
   "execution_count": 0,
   "metadata": {
    "application/vnd.databricks.v1+cell": {
     "cellMetadata": {},
     "inputWidgets": {},
     "nuid": "76f9f0c0-f428-41f1-823a-f8a871bb56bf",
     "showTitle": false,
     "title": ""
    }
   },
   "outputs": [],
   "source": [
    "import os\n",
    "import pandas as pd\n",
    "import sqlite3\n",
    "from datetime import datetime\n",
    "\n",
    "# Define local directory\n",
    "local_dir = \"/tmp/nyc_taxi_data_2019\"\n",
    "\n",
    "# Function to process data\n",
    "def process_data(file_path, pickup_col, dropoff_col, distance_col, fare_col):\n",
    "    df = pd.read_parquet(file_path)\n",
    "    df = df[[pickup_col, dropoff_col, distance_col, fare_col]].dropna()\n",
    "    df.columns = ['pickup_datetime', 'dropoff_datetime', 'trip_distance', 'fare_amount']\n",
    "    df['pickup_datetime'] = pd.to_datetime(df['pickup_datetime'])\n",
    "    df['dropoff_datetime'] = pd.to_datetime(df['dropoff_datetime'])\n",
    "    df['trip_duration'] = (df['dropoff_datetime'] - df['pickup_datetime']).dt.total_seconds() / 60\n",
    "    df['average_speed'] = df['trip_distance'] / (df['trip_duration'] / 60)\n",
    "    df = df[(df['trip_duration'] > 0) & (df['average_speed'].notnull())]\n",
    "    df['pickup_date'] = df['pickup_datetime'].dt.date\n",
    "    agg_df = df.groupby('pickup_date').agg(\n",
    "        total_trips=('trip_distance', 'count'),\n",
    "        average_fare=('fare_amount', 'mean')\n",
    "    ).reset_index()\n",
    "    return df, agg_df\n",
    "\n",
    "# Connect to SQLite database (or create it)\n",
    "conn = sqlite3.connect('nyc_taxi_data.db')\n",
    "\n",
    "# Process each file and load into SQLite\n",
    "for month in ['01', '02', '03']:\n",
    "    for taxi_type, pickup_col, dropoff_col, distance_col, fare_col in [\n",
    "        ('yellow', 'tpep_pickup_datetime', 'tpep_dropoff_datetime', 'trip_distance', 'fare_amount'),\n",
    "        ('green', 'lpep_pickup_datetime', 'lpep_dropoff_datetime', 'trip_distance', 'fare_amount'),\n",
    "        ('fhvhv', 'pickup_datetime', 'dropoff_datetime', 'trip_miles', 'base_passenger_fare')\n",
    "    ]:\n",
    "        file_path = os.path.join(local_dir, f'{taxi_type}_tripdata_2019-{month}.parquet')\n",
    "        \n",
    "        try:\n",
    "            df, agg_df = process_data(file_path, pickup_col, dropoff_col, distance_col, fare_col)\n",
    "            \n",
    "            # Load data into SQLite tables\n",
    "            df.to_sql(f'{taxi_type}_trips_{month}', conn, if_exists='replace', index=False)\n",
    "            agg_df.to_sql(f'{taxi_type}_agg_{month}', conn, if_exists='replace', index=False)\n",
    "            \n",
    "            print(f\"Data for {taxi_type} 2019-{month} loaded into SQLite.\")\n",
    "        except Exception as e:\n",
    "            print(f\"Error processing {file_path}: {e}\")\n",
    "\n",
    "# Close the connection\n",
    "conn.close()\n",
    "\n",
    "print(\"Data loading completed.\")\n"
   ]
  }
 ],
 "metadata": {
  "application/vnd.databricks.v1+notebook": {
   "dashboards": [],
   "environmentMetadata": null,
   "language": "python",
   "notebookMetadata": {
    "pythonIndentUnit": 4
   },
   "notebookName": "NYC_TRIP_DATA_LOADING",
   "widgets": {}
  }
 },
 "nbformat": 4,
 "nbformat_minor": 0
}
